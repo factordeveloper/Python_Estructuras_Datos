{
  "nbformat": 4,
  "nbformat_minor": 0,
  "metadata": {
    "colab": {
      "provenance": []
    },
    "kernelspec": {
      "name": "python3",
      "display_name": "Python 3"
    },
    "language_info": {
      "name": "python"
    }
  },
  "cells": [
    {
      "cell_type": "markdown",
      "source": [
        "# 1. **Listas (list)**\n",
        "\n",
        "###Las listas son colecciones ordenadas y mutables, lo que significa que puedes modificar sus elementos. Permiten almacenar elementos de diferentes tipos.\n",
        "\n",
        "- *Aplicaciones:*\n",
        "  - Almacenar secuencias de datos, como una lista de nombres de estudiantes.\n",
        "  - Implementar algoritmos como búsqueda y clasificación.\n",
        "  - Usar como buffer o cola para tareas o procesos pendientes.\n"
      ],
      "metadata": {
        "id": "hQsX6wbNbbGe"
      }
    },
    {
      "cell_type": "code",
      "source": [
        "# Crear una lista\n",
        "estudiantes = [\"Ana\", \"Juan\", \"Luis\", \"María\"]\n",
        "\n",
        "# Añadir un elemento\n",
        "estudiantes.append(\"Pedro\")\n",
        "\n",
        "# Acceder a un elemento\n",
        "print(estudiantes[1])  # Juan\n",
        "\n",
        "# Eliminar un elemento\n",
        "estudiantes.remove(\"Luis\")\n",
        "\n",
        "# Recorrer la lista\n",
        "for estudiante in estudiantes:\n",
        "    print(estudiante)\n",
        "\n"
      ],
      "metadata": {
        "colab": {
          "base_uri": "https://localhost:8080/"
        },
        "id": "pMZG3fp1bdir",
        "outputId": "c59bf78e-8cf0-44a8-d3da-fada14da6525"
      },
      "execution_count": 1,
      "outputs": [
        {
          "output_type": "stream",
          "name": "stdout",
          "text": [
            "Juan\n",
            "Ana\n",
            "Juan\n",
            "María\n",
            "Pedro\n"
          ]
        }
      ]
    },
    {
      "cell_type": "markdown",
      "source": [
        "# 2. **Tuplas (tuple)**\n",
        "Las tuplas son similares a las listas, pero son inmutables. Una vez creadas, no puedes modificar sus elementos.\n",
        "\n",
        "- *Aplicaciones:*\n",
        "  - Usadas cuando se desea garantizar que los datos no cambien, como coordenadas geográficas (latitud y longitud).\n",
        "  - Almacenar pares clave-valor cuando no se necesita mutabilidad, por ejemplo, en una base de datos de lecturas históricas.\n"
      ],
      "metadata": {
        "id": "zI223CtlbqG2"
      }
    },
    {
      "cell_type": "code",
      "source": [
        "# Crear una tupla\n",
        "coordenadas = (40.7128, -74.0060)\n",
        "\n",
        "# Acceder a un elemento\n",
        "print(coordenadas[0])  # 40.7128\n",
        "\n",
        "# Intentar modificar una tupla (esto dará un error porque las tuplas son inmutables)\n",
        "# coordenadas[0] = 41.0000  # TypeError\n"
      ],
      "metadata": {
        "colab": {
          "base_uri": "https://localhost:8080/"
        },
        "id": "23itYPWWb0J2",
        "outputId": "9241626c-cbc2-4e7b-d642-1db7b591927c"
      },
      "execution_count": 2,
      "outputs": [
        {
          "output_type": "stream",
          "name": "stdout",
          "text": [
            "40.7128\n"
          ]
        }
      ]
    },
    {
      "cell_type": "markdown",
      "source": [
        "# 3. **Diccionarios (dict)**\n",
        "Los diccionarios son colecciones no ordenadas que almacenan pares clave-valor. Las claves deben ser únicas.\n",
        "\n",
        "- *Aplicaciones:*\n",
        "  - Modelar relaciones clave-valor, como bases de datos simples (almacenar un nombre de usuario y su contraseña).\n",
        "  - Indexar grandes volúmenes de datos, como una API de productos que retorna datos sobre cada producto por su ID.\n",
        "  - Implementar cachés para mejorar la velocidad de acceso a los datos.\n",
        "\n"
      ],
      "metadata": {
        "id": "1nWo6slqb14t"
      }
    },
    {
      "cell_type": "code",
      "source": [
        "# Crear un diccionario\n",
        "usuarios = {\"user1\": \"clave123\", \"user2\": \"clave456\", \"user3\": \"clave789\"}\n",
        "\n",
        "# Acceder a un valor por su clave\n",
        "print(usuarios[\"user1\"])  # clave123\n",
        "\n",
        "# Añadir un nuevo par clave-valor\n",
        "usuarios[\"user4\"] = \"clave101\"\n",
        "\n",
        "# Eliminar un par clave-valor\n",
        "del usuarios[\"user2\"]\n",
        "\n",
        "# Recorrer el diccionario\n",
        "for usuario, clave in usuarios.items():\n",
        "    print(f\"{usuario}: {clave}\")\n"
      ],
      "metadata": {
        "colab": {
          "base_uri": "https://localhost:8080/"
        },
        "id": "KxXSvSNkb2dh",
        "outputId": "ada61faf-b1a7-401d-909c-a05403565a11"
      },
      "execution_count": 3,
      "outputs": [
        {
          "output_type": "stream",
          "name": "stdout",
          "text": [
            "clave123\n",
            "user1: clave123\n",
            "user3: clave789\n",
            "user4: clave101\n"
          ]
        }
      ]
    },
    {
      "cell_type": "markdown",
      "source": [
        "# 4. **Conjuntos (set)**\n",
        "Los conjuntos son colecciones no ordenadas de elementos únicos. No permiten duplicados.\n",
        "\n",
        "- *Aplicaciones:*\n",
        "  - Operaciones matemáticas de conjuntos (intersección, unión, diferencia).\n",
        "  - Filtrar datos duplicados de grandes colecciones, como eliminar usuarios duplicados en un sistema.\n",
        "  - Comparar grandes listas de datos rápidamente.\n"
      ],
      "metadata": {
        "id": "ug0ZWLHeb4_q"
      }
    },
    {
      "cell_type": "code",
      "source": [
        "# Crear un conjunto\n",
        "colores = {\"rojo\", \"azul\", \"verde\"}\n",
        "\n",
        "# Añadir un elemento\n",
        "colores.add(\"amarillo\")\n",
        "\n",
        "# Eliminar un elemento\n",
        "colores.remove(\"azul\")\n",
        "\n",
        "# Operaciones de conjuntos\n",
        "otros_colores = {\"naranja\", \"verde\", \"morado\"}\n",
        "interseccion = colores.intersection(otros_colores)  # {'verde'}\n",
        "union = colores.union(otros_colores)  # {'rojo', 'verde', 'amarillo', 'naranja', 'morado'}\n",
        "\n",
        "print(interseccion)\n",
        "print(union)\n"
      ],
      "metadata": {
        "colab": {
          "base_uri": "https://localhost:8080/"
        },
        "id": "Xcwh3hX1b5jp",
        "outputId": "f5e89c11-fc8b-4aeb-c7a6-adae9ce36125"
      },
      "execution_count": 4,
      "outputs": [
        {
          "output_type": "stream",
          "name": "stdout",
          "text": [
            "{'verde'}\n",
            "{'rojo', 'amarillo', 'morado', 'verde', 'naranja'}\n"
          ]
        }
      ]
    },
    {
      "cell_type": "markdown",
      "source": [
        "# 5. **Pilas (stack)**\n",
        "Las pilas siguen el principio de LIFO (Last In, First Out), es decir, el último elemento agregado es el primero en ser removido.\n",
        "\n",
        "- *Aplicaciones:*\n",
        "  - Implementación de la funcionalidad de \"deshacer\" en editores de texto.\n",
        "  - Gestión de llamadas a funciones mediante la pila de llamadas (call stack).\n",
        "  - Algoritmos de recorrido de árboles o gráficos.\n"
      ],
      "metadata": {
        "id": "CcEECjF7b8cS"
      }
    },
    {
      "cell_type": "code",
      "source": [
        "# Crear una pila\n",
        "pila = []\n",
        "\n",
        "# Apilar elementos\n",
        "pila.append(1)\n",
        "pila.append(2)\n",
        "pila.append(3)\n",
        "\n",
        "# Desapilar el último elemento\n",
        "ultimo = pila.pop()\n",
        "\n",
        "# Ver el estado actual de la pila\n",
        "print(pila)  # [1, 2]\n"
      ],
      "metadata": {
        "colab": {
          "base_uri": "https://localhost:8080/"
        },
        "id": "y1j4-A9Eb9Io",
        "outputId": "2f31dbc3-391a-46e7-a976-8e0bd3921bf1"
      },
      "execution_count": 5,
      "outputs": [
        {
          "output_type": "stream",
          "name": "stdout",
          "text": [
            "[1, 2]\n"
          ]
        }
      ]
    },
    {
      "cell_type": "markdown",
      "source": [
        "# 6. **Colas (queue)**\n",
        "Las colas siguen el principio de FIFO (First In, First Out), es decir, el primer elemento agregado es el primero en ser removido.\n",
        "\n",
        "- *Aplicaciones:*\n",
        "  - Simulación de procesos como sistemas de espera en colas, por ejemplo, en una fila para atención en línea.\n",
        "  - Implementación de tareas programadas en sistemas concurrentes.\n",
        "  - Manejo de buffers de datos en aplicaciones de procesamiento en tiempo real.\n"
      ],
      "metadata": {
        "id": "f0Yz-ZeUb_Iu"
      }
    },
    {
      "cell_type": "code",
      "source": [
        "from collections import deque\n",
        "\n",
        "# Crear una cola\n",
        "cola = deque([\"A\", \"B\", \"C\"])\n",
        "\n",
        "# Encolar un elemento\n",
        "cola.append(\"D\")\n",
        "\n",
        "# Desencolar un elemento\n",
        "primero = cola.popleft()\n",
        "\n",
        "# Ver el estado actual de la cola\n",
        "print(cola)  # deque(['B', 'C', 'D'])\n"
      ],
      "metadata": {
        "colab": {
          "base_uri": "https://localhost:8080/"
        },
        "id": "MosMN-iAcAR9",
        "outputId": "77ede4ad-5517-4de5-ed2b-4e104e15bc19"
      },
      "execution_count": 6,
      "outputs": [
        {
          "output_type": "stream",
          "name": "stdout",
          "text": [
            "deque(['B', 'C', 'D'])\n"
          ]
        }
      ]
    },
    {
      "cell_type": "markdown",
      "source": [
        "# 7. **Árboles (Trees)**\n",
        "Los árboles son estructuras jerárquicas donde los nodos están conectados de manera que cada nodo tiene un único nodo padre y puede tener varios hijos. Un tipo específico de árbol es el *árbol binario*, donde cada nodo tiene como máximo dos hijos.\n",
        "\n",
        "- *Aplicaciones:*\n",
        "  - Representación de jerarquías como sistemas de archivos o bases de datos jerárquicas.\n",
        "  - Algoritmos de búsqueda y ordenación, como los árboles binarios de búsqueda.\n",
        "  - Usado en estructuras de datos más complejas como *heaps* o *árboles AVL* para optimizar búsquedas y operaciones de inserción.\n"
      ],
      "metadata": {
        "id": "ga1RtlX_cCPX"
      }
    },
    {
      "cell_type": "code",
      "source": [
        "# Crear un grafo\n",
        "grafo = {\n",
        "    \"A\": [\"B\", \"C\"],\n",
        "    \"B\": [\"A\", \"D\", \"E\"],\n",
        "    \"C\": [\"A\", \"F\"],\n",
        "    \"D\": [\"B\"],\n",
        "    \"E\": [\"B\", \"F\"],\n",
        "    \"F\": [\"C\", \"E\"]\n",
        "}\n",
        "\n",
        "# Recorrer el grafo (ejemplo de recorrido BFS)\n",
        "from collections import deque\n",
        "\n",
        "def bfs(grafo, inicio):\n",
        "    visitados = set()\n",
        "    cola = deque([inicio])\n",
        "\n",
        "    while cola:\n",
        "        nodo = cola.popleft()\n",
        "        if nodo not in visitados:\n",
        "            print(nodo)\n",
        "            visitados.add(nodo)\n",
        "            cola.extend(grafo[nodo])\n",
        "\n",
        "bfs(grafo, \"A\")\n"
      ],
      "metadata": {
        "colab": {
          "base_uri": "https://localhost:8080/"
        },
        "id": "dDZpuc5NcC6k",
        "outputId": "be9f5df7-b234-43dc-fbcf-3cc193d2a6fd"
      },
      "execution_count": 12,
      "outputs": [
        {
          "output_type": "stream",
          "name": "stdout",
          "text": [
            "A\n",
            "B\n",
            "C\n",
            "D\n",
            "E\n",
            "F\n"
          ]
        }
      ]
    },
    {
      "cell_type": "markdown",
      "source": [
        "# 8. **Grafos (Graphs)**\n",
        "Un grafo está compuesto por nodos (vértices) y conexiones entre ellos (aristas). Pueden ser dirigidos o no dirigidos, y representar relaciones complejas.\n",
        "\n",
        "- *Aplicaciones:*\n",
        "  - Representación de redes sociales, donde los usuarios son nodos y las relaciones entre ellos son aristas.\n",
        "  - Modelado de sistemas de transporte (caminos, vuelos).\n",
        "  - Resolución de problemas de optimización como rutas más cortas.\n"
      ],
      "metadata": {
        "id": "63xN2XthcFVT"
      }
    },
    {
      "cell_type": "code",
      "source": [
        "# Crear un grafo\n",
        "grafo = {\n",
        "    \"A\": [\"B\", \"C\"],\n",
        "    \"B\": [\"A\", \"D\", \"E\"],\n",
        "    \"C\": [\"A\", \"F\"],\n",
        "    \"D\": [\"B\"],\n",
        "    \"E\": [\"B\", \"F\"],\n",
        "    \"F\": [\"C\", \"E\"]\n",
        "}\n",
        "\n",
        "# Recorrer el grafo (ejemplo de recorrido BFS)\n",
        "from collections import deque\n",
        "\n",
        "def bfs(grafo, inicio):\n",
        "    visitados = set()\n",
        "    cola = deque([inicio])\n",
        "\n",
        "    while cola:\n",
        "        nodo = cola.popleft()\n",
        "        if nodo not in visitados:\n",
        "            print(nodo)\n",
        "            visitados.add(nodo)\n",
        "            cola.extend(grafo[nodo])\n",
        "\n",
        "bfs(grafo, \"A\")\n"
      ],
      "metadata": {
        "colab": {
          "base_uri": "https://localhost:8080/"
        },
        "id": "zMDGg5-VcGKG",
        "outputId": "6836e212-9699-4eea-8759-4e6d7bfecc4d"
      },
      "execution_count": 8,
      "outputs": [
        {
          "output_type": "stream",
          "name": "stdout",
          "text": [
            "A\n",
            "B\n",
            "C\n",
            "D\n",
            "E\n",
            "F\n"
          ]
        }
      ]
    },
    {
      "cell_type": "markdown",
      "source": [
        "### Aplicaciones en la vida real\n",
        "- *Big Data y Data Science:* Diccionarios y listas se usan frecuentemente para manipular grandes volúmenes de datos en análisis.\n",
        "- *IA y Machine Learning:* Las pilas y colas pueden manejar datos de entrenamiento, y los árboles se usan en algoritmos de decisión.\n",
        "- *Desarrollo web y APIs:* Los diccionarios se utilizan para manejar respuestas de APIs en formato JSON, que son estructuras clave-valor.\n",
        "- *Videojuegos:* Los grafos son fundamentales para la IA de personajes no jugables (NPCs) y la navegación de mundos virtuales.\n",
        "\n",
        "Las estructuras de datos bien elegidas mejoran significativamente la eficiencia y el rendimiento de los programas en la resolución de problemas del mundo real."
      ],
      "metadata": {
        "id": "AZ7prIoccNK0"
      }
    }
  ]
}